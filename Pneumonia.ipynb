{
  "cells": [
    {
      "cell_type": "markdown",
      "metadata": {
        "id": "view-in-github",
        "colab_type": "text"
      },
      "source": [
        "<a href=\"https://colab.research.google.com/github/NKASG/Pneumonia-detection/blob/main/Pneumonia.ipynb\" target=\"_parent\"><img src=\"https://colab.research.google.com/assets/colab-badge.svg\" alt=\"Open In Colab\"/></a>"
      ]
    },
    {
      "cell_type": "code",
      "execution_count": null,
      "metadata": {
        "id": "mKro663b6Q_U"
      },
      "outputs": [],
      "source": [
        "import tensorflow as tf\n",
        "from tensorflow import keras\n",
        "from tensorflow.keras.preprocessing import image_dataset_from_directory\n",
        "from tensorflow.keras import models, layers\n",
        "import numpy as np\n",
        "import pandas as pd\n",
        "import matplotlib.pyplot as plt"
      ]
    },
    {
      "cell_type": "code",
      "execution_count": null,
      "metadata": {
        "colab": {
          "base_uri": "https://localhost:8080/"
        },
        "id": "rARNDUOm6ken",
        "outputId": "f479f17d-0f79-4730-aeaf-d3a832f24846"
      },
      "outputs": [
        {
          "name": "stdout",
          "output_type": "stream",
          "text": [
            "Found 5256 files belonging to 2 classes.\n"
          ]
        }
      ],
      "source": [
        "train_ds = image_dataset_from_directory('/content/drive/MyDrive/chest_xrayss/trains',shuffle=True, image_size=(256,256), batch_size=32 )"
      ]
    },
    {
      "cell_type": "code",
      "execution_count": null,
      "metadata": {
        "colab": {
          "base_uri": "https://localhost:8080/"
        },
        "id": "3ty6ACA77HhC",
        "outputId": "05b18944-4b3e-4aa9-df94-5a6a424c6d03"
      },
      "outputs": [
        {
          "name": "stdout",
          "output_type": "stream",
          "text": [
            "Found 624 files belonging to 2 classes.\n"
          ]
        }
      ],
      "source": [
        "test_ds = image_dataset_from_directory('/content/drive/MyDrive/chest_xrayss/test',shuffle=True, image_size=(256,256), batch_size=32 )"
      ]
    },
    {
      "cell_type": "code",
      "execution_count": null,
      "metadata": {
        "colab": {
          "base_uri": "https://localhost:8080/"
        },
        "id": "hZjsH9sH7NmP",
        "outputId": "82e1e115-5f9c-4470-b98a-9f8a381047e5"
      },
      "outputs": [
        {
          "name": "stdout",
          "output_type": "stream",
          "text": [
            "Found 16 files belonging to 2 classes.\n"
          ]
        }
      ],
      "source": [
        "val_ds = image_dataset_from_directory('/content/drive/MyDrive/chest_xrayss/val',shuffle=True, image_size=(256,256), batch_size=32 )"
      ]
    },
    {
      "cell_type": "code",
      "execution_count": null,
      "metadata": {
        "id": "8QJwK8SkmQVh"
      },
      "outputs": [],
      "source": [
        "train_ds = train_ds.cache().shuffle(1000).prefetch(buffer_size=tf.data.AUTOTUNE)\n",
        "val_ds = val_ds.cache().shuffle(1000).prefetch(buffer_size=tf.data.AUTOTUNE)\n",
        "test_ds = test_ds.cache().shuffle(1000).prefetch(buffer_size=tf.data.AUTOTUNE)"
      ]
    },
    {
      "cell_type": "code",
      "execution_count": null,
      "metadata": {
        "id": "RL4FzzWPRNce"
      },
      "outputs": [],
      "source": [
        "resize_and_rescale = tf.keras.Sequential([\n",
        "  layers.experimental.preprocessing.Resizing(256,256),\n",
        "  layers.experimental.preprocessing.Rescaling(1./255),\n",
        "])"
      ]
    },
    {
      "cell_type": "code",
      "execution_count": null,
      "metadata": {
        "id": "M_7B97ozRRcD"
      },
      "outputs": [],
      "source": [
        "data_augmentation = tf.keras.Sequential([\n",
        "  layers.experimental.preprocessing.RandomFlip(\"horizontal_and_vertical\"),\n",
        "  layers.experimental.preprocessing.RandomRotation(0.2),\n",
        "])"
      ]
    },
    {
      "cell_type": "code",
      "execution_count": null,
      "metadata": {
        "id": "Hy8W3942RXFb"
      },
      "outputs": [],
      "source": [
        "train_ds = train_ds.map(\n",
        "    lambda x, y: (data_augmentation(x, training=True), y)\n",
        ").prefetch(buffer_size=tf.data.AUTOTUNE)"
      ]
    },
    {
      "cell_type": "code",
      "execution_count": null,
      "metadata": {
        "id": "TWbAl9LSRduM"
      },
      "outputs": [],
      "source": [
        "input_shape = (32,256,256,3)"
      ]
    },
    {
      "cell_type": "code",
      "execution_count": null,
      "metadata": {
        "id": "Lu9oh7u7Rfr7"
      },
      "outputs": [],
      "source": [
        "    Model = keras.models.Sequential([\n",
        "resize_and_rescale ,\n",
        "    \n",
        "    layers.Conv2D(32, kernel_size = (3,3), activation='relu', input_shape=input_shape),\n",
        "    layers.MaxPooling2D((2, 2)),\n",
        "    layers.Conv2D(64,  kernel_size = (3,3), activation='relu'),\n",
        "    layers.MaxPooling2D((2, 2)),\n",
        "    layers.Conv2D(64,  kernel_size = (3,3), activation='relu'),\n",
        "    layers.MaxPooling2D((2, 2)),\n",
        "    layers.Conv2D(64, (3, 3), activation='relu'),\n",
        "    layers.MaxPooling2D((2, 2)),\n",
        "    layers.Conv2D(64, (3, 3), activation='relu'),\n",
        "    layers.MaxPooling2D((2, 2)),\n",
        "    layers.Conv2D(64, (3, 3), activation='relu'),\n",
        "    layers.MaxPooling2D((2, 2)),\n",
        "    layers.Flatten(),\n",
        "    layers.Dense(64, activation='relu'),\n",
        "    layers.Dense(2, activation='softmax'),\n",
        "\n",
        "  \n",
        "   \n",
        "    \n",
        "])\n",
        "     \n",
        "   "
      ]
    },
    {
      "cell_type": "code",
      "execution_count": null,
      "metadata": {
        "id": "u014ij4nRmSA"
      },
      "outputs": [],
      "source": [
        " Model.build(input_shape)"
      ]
    },
    {
      "cell_type": "code",
      "execution_count": null,
      "metadata": {
        "id": "zrdSL04ZR8Ko"
      },
      "outputs": [],
      "source": [
        "Model.compile(\n",
        "    optimizer='adam',\n",
        "    loss=tf.keras.losses.SparseCategoricalCrossentropy(from_logits=False),\n",
        "    metrics=['accuracy']\n",
        ")"
      ]
    },
    {
      "cell_type": "code",
      "execution_count": null,
      "metadata": {
        "id": "J4MURPqwRsT3"
      },
      "outputs": [],
      "source": [
        "Model.summary()"
      ]
    },
    {
      "cell_type": "code",
      "execution_count": null,
      "metadata": {
        "colab": {
          "background_save": true,
          "base_uri": "https://localhost:8080/"
        },
        "id": "EKrckq87RxuU",
        "outputId": "e19771d1-6797-4fc4-812f-efba5898b914"
      },
      "outputs": [
        {
          "name": "stdout",
          "output_type": "stream",
          "text": [
            "Epoch 1/5\n",
            "165/165 [==============================] - 999s 2s/step - loss: 0.5873 - accuracy: 0.7392 - val_loss: 0.8360 - val_accuracy: 0.5000\n",
            "Epoch 2/5\n",
            "165/165 [==============================] - 370s 2s/step - loss: 0.4994 - accuracy: 0.7544 - val_loss: 0.8052 - val_accuracy: 0.5625\n",
            "Epoch 3/5\n",
            "165/165 [==============================] - 378s 2s/step - loss: 0.3792 - accuracy: 0.8326 - val_loss: 0.5194 - val_accuracy: 0.7500\n",
            "Epoch 4/5\n",
            "165/165 [==============================] - 390s 2s/step - loss: 0.2620 - accuracy: 0.8950 - val_loss: 0.7702 - val_accuracy: 0.6250\n",
            "Epoch 5/5\n",
            "165/165 [==============================] - 379s 2s/step - loss: 0.2002 - accuracy: 0.9247 - val_loss: 0.8831 - val_accuracy: 0.6875\n"
          ]
        }
      ],
      "source": [
        "history = Model.fit( train_ds, batch_size=32, validation_data=val_ds, verbose=1, epochs=5)"
      ]
    },
    {
      "cell_type": "code",
      "execution_count": null,
      "metadata": {
        "id": "cooQ41HMVjvD"
      },
      "outputs": [],
      "source": [
        "scores = Model.evaluate(test_ds)"
      ]
    }
  ],
  "metadata": {
    "colab": {
      "provenance": [],
      "mount_file_id": "1lYsn1ukO14CkQ4m5McYecW88lj8YL5HP",
      "authorship_tag": "ABX9TyMK/PdBv5b9eUfHiwXsqniC",
      "include_colab_link": true
    },
    "kernelspec": {
      "display_name": "Python 3",
      "name": "python3"
    },
    "language_info": {
      "name": "python"
    }
  },
  "nbformat": 4,
  "nbformat_minor": 0
}